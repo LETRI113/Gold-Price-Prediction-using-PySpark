{
  "cells": [
    {
      "cell_type": "code",
      "execution_count": null,
      "metadata": {
        "id": "iFAiFUHUg5GI"
      },
      "outputs": [],
      "source": [
        "# Cell 1: Imports and SparkSession\n",
        "import numpy as np\n",
        "from pyspark.sql import SparkSession\n",
        "from pyspark.sql import functions as F\n",
        "from pyspark.sql.window import Window\n",
        "from pyspark.ml.feature import VectorAssembler\n",
        "from pyspark.ml.regression import LinearRegression\n",
        "import matplotlib.pyplot as plt\n",
        "from pyspark.mllib.linalg.distributed import RowMatrix\n",
        "\n",
        "# Khởi tạo SparkSession với chaining đúng cách\n",
        "spark = (\n",
        "    SparkSession.builder\n",
        "    .appName('GoldPricePrediction')\n",
        "    .getOrCreate()\n",
        ")"
      ]
    },
    {
      "cell_type": "code",
      "execution_count": null,
      "metadata": {
        "id": "RexZ_a-Yg7mN"
      },
      "outputs": [],
      "source": [
        "# Cell 2: Load dataset\n",
        "# Đọc CSV với header, infer schema\n",
        "df = spark.read.csv('gold_prices.csv', header=True, inferSchema=True)\n",
        "# Đổi tên cột để có tên không chứa khoảng trắng\n",
        "df = df.withColumnRenamed('Buy Price', 'BuyPrice') \\\n",
        "       .withColumnRenamed('Sell Price', 'SellPrice') \\\n",
        "       .withColumn('Date', F.to_date('Date', 'dd/MM/yyyy'))\n",
        "# Sắp xếp theo ngày\n",
        "df = df.orderBy('Date')"
      ]
    },
    {
      "cell_type": "code",
      "execution_count": null,
      "metadata": {
        "id": "I4tGCN_Sg81R"
      },
      "outputs": [],
      "source": [
        "# Cell 3: Tạo lag features (t-10 đến t-1) trên cột BuyPrice\n",
        "window = Window.orderBy('Date')\n",
        "for i in range(1, 11):\n",
        "    df = df.withColumn(f'lag_{i}', F.lag('BuyPrice', i).over(window))\n",
        "# Loại bỏ các dòng đầu chưa có đủ 10 ngày trước\n",
        "df_clean = df.na.drop(subset=[f'lag_{i}' for i in range(1, 11)])\n",
        "df_clean = df.na.drop(subset=[f'lag_{i}' for i in range(1, 11)])"
      ]
    },
    {
      "cell_type": "code",
      "execution_count": null,
      "metadata": {
        "id": "q7OAwXUMg-h9"
      },
      "outputs": [],
      "source": [
        "# Cell 4: Tạo feature vector và label (sử dụng BuyPrice)\n",
        "assembler = VectorAssembler(\n",
        "    inputCols=[f'lag_{i}' for i in range(1, 11)],\n",
        "    outputCol='features'\n",
        ")\n",
        "df_features = assembler.transform(df_clean).select('features', F.col('BuyPrice').alias('label'))"
      ]
    },
    {
      "cell_type": "code",
      "execution_count": null,
      "metadata": {
        "id": "hB4woKAqhBP7"
      },
      "outputs": [],
      "source": [
        "# Cell 5: Chia train/test 70:30\n",
        "train_df, test_df = df_features.randomSplit([0.7, 0.3], seed=42)\n"
      ]
    },
    {
      "cell_type": "code",
      "execution_count": null,
      "metadata": {
        "id": "PfENS79shDlA"
      },
      "outputs": [],
      "source": [
        "# Cell 6: Khởi tạo LinearRegression\n",
        "# Chọn solver l-bfgs để thu được lịch sử loss qua nhiều iteration\n",
        "lr = LinearRegression(\n",
        "    featuresCol='features',\n",
        "    labelCol='label',\n",
        "    maxIter=50,\n",
        "    regParam=0.1,\n",
        "    solver='l-bfgs'\n",
        ")"
      ]
    },
    {
      "cell_type": "code",
      "execution_count": null,
      "metadata": {
        "id": "BV6vZZxzhFfi"
      },
      "outputs": [],
      "source": [
        "# Cell 7: Huấn luyện model\n",
        "lr_model = lr.fit(train_df)\n",
        "train_summary = lr_model.summary\n"
      ]
    },
    {
      "cell_type": "code",
      "execution_count": null,
      "metadata": {
        "id": "4NFsMZbnhHNR"
      },
      "outputs": [],
      "source": [
        "# Cell 8: Đánh giá trên tập train và test\n",
        "# Train metrics\n",
        "train_rmse = train_summary.rootMeanSquaredError\n",
        "train_mse = train_summary.meanSquaredError\n",
        "# Test metrics\n",
        "test_summary = lr_model.evaluate(test_df)\n",
        "test_rmse = test_summary.rootMeanSquaredError\n",
        "test_mse = test_summary.meanSquaredError"
      ]
    },
    {
      "cell_type": "code",
      "execution_count": null,
      "metadata": {
        "colab": {
          "base_uri": "https://localhost:8080/",
          "height": 897
        },
        "id": "nLQZR6uIhJzY",
        "outputId": "7b55a7fc-7828-4e43-99fa-354c04f0932b"
      },
      "outputs": [],
      "source": [
        "# Cell 9: Vẽ line chart loss trong quá trình huấn luyện (với trục x rõ ràng)\n",
        "loss_history = train_summary.objectiveHistory\n",
        "iterations = list(range(len(loss_history)))\n",
        "plt.figure(figsize=(8, 5))\n",
        "plt.plot(iterations, loss_history, marker='o')\n",
        "plt.xticks(iterations)\n",
        "plt.xlabel('Iteration')\n",
        "plt.ylabel('Objective (Loss)')\n",
        "plt.title('Training Loss History')\n",
        "plt.grid(True)\n",
        "plt.tight_layout()\n",
        "plt.show()\n",
        "\n",
        "# Cell 10: Bar chart so sánh RMSE train và test\n",
        "metrics = ['Train RMSE', 'Test RMSE']\n",
        "values = [train_rmse, test_rmse]\n",
        "plt.figure(figsize=(6, 4))\n",
        "bars = plt.bar(metrics, values)\n",
        "for bar, val in zip(bars, values):\n",
        "    plt.text(bar.get_x() + bar.get_width()/2, val, f'{val:.3f}', ha='center', va='bottom')\n",
        "plt.ylabel('RMSE')\n",
        "plt.title('Comparison of RMSE: Train vs Test')\n",
        "plt.tight_layout()\n",
        "plt.show()\n",
        "\n"
      ]
    }
  ],
  "metadata": {
    "colab": {
      "provenance": []
    },
    "kernelspec": {
      "display_name": "base",
      "language": "python",
      "name": "python3"
    },
    "language_info": {
      "name": "python",
      "version": "3.12.4"
    }
  },
  "nbformat": 4,
  "nbformat_minor": 0
}
